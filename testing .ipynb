{
 "cells": [
  {
   "cell_type": "code",
   "execution_count": 2,
   "id": "02366ea8",
   "metadata": {},
   "outputs": [],
   "source": [
    "import numpy as np\n",
    "import pandas as pd\n",
    "import matplotlib as mat\n",
    "import requests as req\n",
    "import sqlalchemy as sq \n",
    "import scipy as sc\n",
    " \n",
    "import sys"
   ]
  },
  {
   "cell_type": "code",
   "execution_count": null,
   "id": "351a1522",
   "metadata": {},
   "outputs": [],
   "source": []
  },
  {
   "cell_type": "code",
   "execution_count": 3,
   "id": "4a553c42",
   "metadata": {},
   "outputs": [
    {
     "data": {
      "text/plain": [
       "10"
      ]
     },
     "execution_count": 3,
     "metadata": {},
     "output_type": "execute_result"
    }
   ],
   "source": [
    "def fun(x):\n",
    "    if (x<0):\n",
    "        value=0\n",
    "    elif(x<5):\n",
    "        value= 5\n",
    "    else:\n",
    "        value=10\n",
    "        \n",
    "    return value\n",
    "fun(7)"
   ]
  },
  {
   "cell_type": "code",
   "execution_count": 4,
   "id": "678fbfe6",
   "metadata": {},
   "outputs": [
    {
     "name": "stdout",
     "output_type": "stream",
     "text": [
      "[3.1622776601683795, 4.123105625617661, 2.23606797749979]\n"
     ]
    },
    {
     "data": {
      "text/plain": [
       "[3.1622776601683795, 4.123105625617661, 2.23606797749979]"
      ]
     },
     "execution_count": 4,
     "metadata": {},
     "output_type": "execute_result"
    }
   ],
   "source": [
    "def distance(x,y,z):\n",
    "    def distancexy(x,y):\n",
    "        return np.sqrt( ( x[0]-y[0])**2 +( x[1]-y[1])**2   )\n",
    "    d0=distancexy(x,y)\n",
    "    d1=distancexy(x,z)\n",
    "    d2=distancexy(y,z)\n",
    "    return [d0,d1,d2]\n",
    "\n",
    "x=(3,4)\n",
    "y=(4,7)\n",
    "z=(2,8)\n",
    "\n",
    "d=distance(x,y,z)\n",
    "print(d)\n",
    "d\n"
   ]
  },
  {
   "cell_type": "code",
   "execution_count": 5,
   "id": "efae1cd3",
   "metadata": {},
   "outputs": [
    {
     "name": "stdout",
     "output_type": "stream",
     "text": [
      "2362728626208\n",
      "2362728626208\n",
      "2362728625088\n",
      "True\n",
      "False\n",
      "True\n"
     ]
    }
   ],
   "source": [
    " a={1,2,3}\n",
    " b=a\n",
    " c={2,1,3}\n",
    " print(id(a))\n",
    " print(id(b))\n",
    " print(id(c))\n",
    " print(a is b)\n",
    " \n",
    " print(a is c)\n",
    " print(a == c)"
   ]
  },
  {
   "cell_type": "code",
   "execution_count": 6,
   "id": "568ac2d5",
   "metadata": {},
   "outputs": [
    {
     "data": {
      "text/plain": [
       "-2"
      ]
     },
     "execution_count": 6,
     "metadata": {},
     "output_type": "execute_result"
    }
   ],
   "source": [
    "add=lambda x,y:x-y\n",
    "add(4,6)"
   ]
  },
  {
   "cell_type": "markdown",
   "id": "d4ab00f4",
   "metadata": {},
   "source": [
    "#  funtion as argument to funtion "
   ]
  },
  {
   "cell_type": "code",
   "execution_count": 7,
   "id": "04bc3102",
   "metadata": {},
   "outputs": [
    {
     "name": "stdout",
     "output_type": "stream",
     "text": [
      "56\n"
     ]
    },
    {
     "data": {
      "text/plain": [
       "1.0"
      ]
     },
     "execution_count": 7,
     "metadata": {},
     "output_type": "execute_result"
    }
   ],
   "source": [
    "m=np.max\n",
    "\n",
    "print(m([1,3,56,7,4,2]))\n",
    "\n",
    "\n",
    "def newfun(fun,x):\n",
    "    return fun(x)+1\n",
    "newfun(np.sin,np.pi/2)\n",
    "newfun(np.cos,np.pi/2)"
   ]
  },
  {
   "cell_type": "code",
   "execution_count": 8,
   "id": "7bb7c10d",
   "metadata": {},
   "outputs": [
    {
     "name": "stdout",
     "output_type": "stream",
     "text": [
      "3\n",
      "3\n"
     ]
    },
    {
     "data": {
      "text/plain": [
       "3"
      ]
     },
     "execution_count": 8,
     "metadata": {},
     "output_type": "execute_result"
    }
   ],
   "source": [
    "n=3\n",
    "def fun():\n",
    "    \n",
    "    print(n)\n",
    "    print(n)\n",
    "    \n",
    "fun()\n",
    "n"
   ]
  },
  {
   "cell_type": "code",
   "execution_count": 9,
   "id": "2b57fcbe",
   "metadata": {},
   "outputs": [
    {
     "name": "stdout",
     "output_type": "stream",
     "text": [
      "key value  (1, 'one') \n",
      "key value  (2, 'two') \n",
      "key value  (3, 'three') \n",
      "key value  (4, 'four') \n",
      "key value  (5, {'hi', 'indra', 'hello'}) \n",
      "{1: 'one', 2: 'two', 3: 'three', 4: 'four', 5: {'hi', 'indra', 'hello'}}\n"
     ]
    },
    {
     "data": {
      "text/plain": [
       "dict_items([(1, 'one'), (2, 'two'), (3, 'three'), (4, 'four'), (5, {'hi', 'indra', 'hello'})])"
      ]
     },
     "execution_count": 9,
     "metadata": {},
     "output_type": "execute_result"
    }
   ],
   "source": [
    "dict={ 1:\"one\",2:\"two\",3:\"three\",4:\"four\",5:{\"hello\",\"hi\" ,\"indra\"}}\n",
    "for( value )in dict.items():\n",
    "    print(f'key value  {value} ')\n",
    "print(dict)\n",
    "dict.items()"
   ]
  },
  {
   "cell_type": "code",
   "execution_count": 10,
   "id": "54ba3897",
   "metadata": {},
   "outputs": [
    {
     "name": "stdout",
     "output_type": "stream",
     "text": [
      "None\n",
      "{1, 2, 4, 5, 6, 78, 399, 52, 54}\n",
      "{1, 2, 4, 5, 6, 78, 399, 52, 54}\n"
     ]
    }
   ],
   "source": [
    "st={ 1,2,4,54,4,4,52,1,1,4,6,78,5,4,2}\n",
    "st.add(399)\n",
    "s={444,555}\n",
    "print(s.clear())\n",
    "s=s.union(st.copy())\n",
    "print(s)\n",
    "print(st)"
   ]
  },
  {
   "cell_type": "code",
   "execution_count": 11,
   "id": "73c44c8a",
   "metadata": {},
   "outputs": [
    {
     "data": {
      "text/plain": [
       "[[1, 3], [2, 0], [4, 1], [34, 5], [55, 6]]"
      ]
     },
     "execution_count": 11,
     "metadata": {},
     "output_type": "execute_result"
    }
   ],
   "source": [
    "sorted(([1,3],[55,6],[2,0],[4,1],[34,5]) ,key=lambda x: x[0] )"
   ]
  },
  {
   "cell_type": "code",
   "execution_count": 12,
   "id": "8c919dcd",
   "metadata": {},
   "outputs": [
    {
     "data": {
      "text/plain": [
       "9.999778782798785e-07"
      ]
     },
     "execution_count": 12,
     "metadata": {},
     "output_type": "execute_result"
    }
   ],
   "source": [
    "def deff2nd(f,x,h=1e-6):\n",
    "    result=(f(x-h)-2*f(x) +f(x+h) )/(h*2)\n",
    "\n",
    "    return result\n",
    "def g(x):\n",
    "    return x**2\n",
    "x=1.2\n",
    "d2g=deff2nd(g,x)\n",
    "d2g"
   ]
  },
  {
   "cell_type": "code",
   "execution_count": 13,
   "id": "591089c8",
   "metadata": {},
   "outputs": [
    {
     "name": "stdout",
     "output_type": "stream",
     "text": [
      "[[1 2 3]\n",
      " [4 5 6]] \n",
      " [[1 2 3]\n",
      " [4 5 6]]\n"
     ]
    },
    {
     "data": {
      "text/plain": [
       "array([[ 2,  4,  6],\n",
       "       [ 8, 10, 12]])"
      ]
     },
     "execution_count": 13,
     "metadata": {},
     "output_type": "execute_result"
    }
   ],
   "source": [
    "\n",
    "A=np.array([[1,2,3],[4,5,6]])\n",
    "B=np.array([[1,2,3],[4,5,6]])\n",
    "print(A,\"\\n\",B)\n",
    "a=4\n",
    "A+B"
   ]
  },
  {
   "cell_type": "code",
   "execution_count": 14,
   "id": "f31d2148",
   "metadata": {},
   "outputs": [
    {
     "name": "stdout",
     "output_type": "stream",
     "text": [
      "[2, 3, 4, 5]\n"
     ]
    },
    {
     "data": {
      "text/plain": [
       "list"
      ]
     },
     "execution_count": 14,
     "metadata": {},
     "output_type": "execute_result"
    }
   ],
   "source": [
    "r=eval(\"[2,3,4,5]\")\n",
    "print(r)\n",
    "type(r)"
   ]
  },
  {
   "cell_type": "code",
   "execution_count": 15,
   "id": "a7e64df6",
   "metadata": {},
   "outputs": [
    {
     "name": "stdout",
     "output_type": "stream",
     "text": [
      "child class 0\n",
      "Thread-3\n",
      "2400\n",
      "<function enumerate at 0x0000022615EE6310>parent class 0\n",
      "parent class 1\n",
      "parent class 2\n",
      "parent class 3\n",
      "child class 1\n",
      "Thread-3\n",
      "2400\n",
      "<function enumerate at 0x0000022615EE6310>\n",
      "child class 2\n",
      "Thread-3\n",
      "2400\n",
      "<function enumerate at 0x0000022615EE6310>\n",
      "parent class 4\n",
      "parent class 5\n",
      "parent class 6\n",
      "parent class 7\n",
      "parent class 8\n",
      "parent class 9\n",
      "\n",
      "child class 3\n",
      "Thread-3\n",
      "2400\n",
      "<function enumerate at 0x0000022615EE6310>\n",
      "child class 4\n",
      "Thread-3\n",
      "2400\n",
      "<function enumerate at 0x0000022615EE6310>\n",
      "child class 5\n",
      "Thread-3\n",
      "2400\n",
      "<function enumerate at 0x0000022615EE6310>\n",
      "child class 6\n",
      "Thread-3\n",
      "2400\n",
      "<function enumerate at 0x0000022615EE6310>\n",
      "child class 7\n",
      "Thread-3\n",
      "2400\n",
      "<function enumerate at 0x0000022615EE6310>\n",
      "child class 8\n",
      "Thread-3\n",
      "2400\n",
      "<function enumerate at 0x0000022615EE6310>\n",
      "child class 9\n",
      "Thread-3\n",
      "2400\n",
      "<function enumerate at 0x0000022615EE6310>\n",
      "outsise  9\n"
     ]
    }
   ],
   "source": [
    "from threading import*\n",
    "n=10\n",
    "def display():\n",
    "    for i  in range(n):\n",
    "        print(f\"child class {i}\")\n",
    "        print(t.name)\n",
    "        print(t.ident)\n",
    "        print(enumerate)\n",
    "    print(\"outsise \",i)\n",
    "\n",
    "t=Thread(target=display)\n",
    "t.start()\n",
    "# n=int(input(\"Give me a number \"))\n",
    "for i in range(n):\n",
    "    print(f\"parent class {i}\")\n",
    "    "
   ]
  },
  {
   "cell_type": "code",
   "execution_count": 16,
   "id": "42d3dc2f",
   "metadata": {},
   "outputs": [
    {
     "name": "stdout",
     "output_type": "stream",
     "text": [
      "5 6 7\n"
     ]
    }
   ],
   "source": [
    "x=5;y=6;z=7\n",
    "a,b,c=5,6,7\n",
    "print(a,b,c)\n",
    "a,b,c= c,a,b\n"
   ]
  },
  {
   "cell_type": "code",
   "execution_count": 17,
   "id": "11a57326",
   "metadata": {},
   "outputs": [
    {
     "name": "stdout",
     "output_type": "stream",
     "text": [
      "0\n",
      "0\n",
      "0\n",
      "0\n"
     ]
    }
   ],
   "source": [
    "def factor(n):\n",
    "     a=0;b=1\n",
    "     while(True):\n",
    "         yield a\n",
    "         print(a)\n",
    "         f=a+b\n",
    "         a=b\n",
    "         b=f\n",
    "        \n",
    "\n",
    " \n",
    "print(next(factor(100)))\n",
    "print(next(factor(100)))\n",
    "print(next(factor(100)))\n",
    "print(next(factor(100)))"
   ]
  },
  {
   "cell_type": "code",
   "execution_count": 1,
   "id": "d3cd5dd0",
   "metadata": {},
   "outputs": [],
   "source": [
    "import tkinter as tk\n",
    "\n",
    "from matplotlib.pyplot import text\n",
    "root=tk.Tk()\n",
    "root.geometry('500x500')\n",
    "root.title(\"Calculate derivatives \")\n",
    "\n",
    "# label\n",
    "Coeff_label=tk.Label(root,text=\"Enter A value\")\n",
    " \n",
    "\n",
    "tk.mainloop()"
   ]
  },
  {
   "cell_type": "code",
   "execution_count": 2,
   "id": "214efd84",
   "metadata": {},
   "outputs": [
    {
     "ename": "TclError",
     "evalue": "bitmap \"logo.ico\" not defined",
     "output_type": "error",
     "traceback": [
      "\u001b[1;31m---------------------------------------------------------------------------\u001b[0m",
      "\u001b[1;31mTclError\u001b[0m                                  Traceback (most recent call last)",
      "\u001b[1;32mc:\\Users\\indra\\OneDrive\\Documents\\Python Scripts\\testing .ipynb Cell 20'\u001b[0m in \u001b[0;36m<module>\u001b[1;34m\u001b[0m\n\u001b[0;32m     <a href='vscode-notebook-cell:/c%3A/Users/indra/OneDrive/Documents/Python%20Scripts/testing%20.ipynb#ch0000019?line=10'>11</a>\u001b[0m root\u001b[39m.\u001b[39mgeometry(\u001b[39m'\u001b[39m\u001b[39m500x400\u001b[39m\u001b[39m'\u001b[39m)\n\u001b[0;32m     <a href='vscode-notebook-cell:/c%3A/Users/indra/OneDrive/Documents/Python%20Scripts/testing%20.ipynb#ch0000019?line=11'>12</a>\u001b[0m root\u001b[39m.\u001b[39mtitle(\u001b[39m\"\u001b[39m\u001b[39mwelcome to our Qr-Code generator\u001b[39m\u001b[39m\"\u001b[39m)\n\u001b[1;32m---> <a href='vscode-notebook-cell:/c%3A/Users/indra/OneDrive/Documents/Python%20Scripts/testing%20.ipynb#ch0000019?line=12'>13</a>\u001b[0m root\u001b[39m.\u001b[39;49mwm_iconbitmap(\u001b[39m'\u001b[39;49m\u001b[39mlogo.ico\u001b[39;49m\u001b[39m'\u001b[39;49m)\n\u001b[0;32m     <a href='vscode-notebook-cell:/c%3A/Users/indra/OneDrive/Documents/Python%20Scripts/testing%20.ipynb#ch0000019?line=13'>14</a>\u001b[0m root\u001b[39m.\u001b[39mconfigure(bg\u001b[39m=\u001b[39m\u001b[39m'\u001b[39m\u001b[39mblack\u001b[39m\u001b[39m'\u001b[39m)\n\u001b[0;32m     <a href='vscode-notebook-cell:/c%3A/Users/indra/OneDrive/Documents/Python%20Scripts/testing%20.ipynb#ch0000019?line=14'>15</a>\u001b[0m \u001b[39m#######################################\u001b[39;00m\n\u001b[0;32m     <a href='vscode-notebook-cell:/c%3A/Users/indra/OneDrive/Documents/Python%20Scripts/testing%20.ipynb#ch0000019?line=15'>16</a>\u001b[0m \u001b[39m#funtions\u001b[39;00m\n",
      "File \u001b[1;32m~\\AppData\\Local\\Programs\\Python\\Python39\\lib\\tkinter\\__init__.py:2072\u001b[0m, in \u001b[0;36mWm.wm_iconbitmap\u001b[1;34m(self, bitmap, default)\u001b[0m\n\u001b[0;32m   <a href='file:///~/AppData/Local/Programs/Python/Python39/lib/tkinter/__init__.py?line=2069'>2070</a>\u001b[0m     \u001b[39mreturn\u001b[39;00m \u001b[39mself\u001b[39m\u001b[39m.\u001b[39mtk\u001b[39m.\u001b[39mcall(\u001b[39m'\u001b[39m\u001b[39mwm\u001b[39m\u001b[39m'\u001b[39m, \u001b[39m'\u001b[39m\u001b[39miconbitmap\u001b[39m\u001b[39m'\u001b[39m, \u001b[39mself\u001b[39m\u001b[39m.\u001b[39m_w, \u001b[39m'\u001b[39m\u001b[39m-default\u001b[39m\u001b[39m'\u001b[39m, default)\n\u001b[0;32m   <a href='file:///~/AppData/Local/Programs/Python/Python39/lib/tkinter/__init__.py?line=2070'>2071</a>\u001b[0m \u001b[39melse\u001b[39;00m:\n\u001b[1;32m-> <a href='file:///~/AppData/Local/Programs/Python/Python39/lib/tkinter/__init__.py?line=2071'>2072</a>\u001b[0m     \u001b[39mreturn\u001b[39;00m \u001b[39mself\u001b[39;49m\u001b[39m.\u001b[39;49mtk\u001b[39m.\u001b[39;49mcall(\u001b[39m'\u001b[39;49m\u001b[39mwm\u001b[39;49m\u001b[39m'\u001b[39;49m, \u001b[39m'\u001b[39;49m\u001b[39miconbitmap\u001b[39;49m\u001b[39m'\u001b[39;49m, \u001b[39mself\u001b[39;49m\u001b[39m.\u001b[39;49m_w, bitmap)\n",
      "\u001b[1;31mTclError\u001b[0m: bitmap \"logo.ico\" not defined"
     ]
    }
   ],
   "source": [
    "from cProfile import label\n",
    "from json.tool import main\n",
    "import pyqrcode\n",
    "import png\n",
    "from pyqrcode import QRCode\n",
    "import os \n",
    "from tkinter import messagebox,Toplevel\n",
    "from tkinter import*\n",
    "#program start fron here \n",
    "root = Tk()\n",
    "root.geometry('500x400')\n",
    "root.title(\"welcome to our Qr-Code generator\")\n",
    "root.wm_iconbitmap('logo.ico')\n",
    "root.configure(bg='black')\n",
    "#######################################\n",
    "#funtions\n",
    "def generateQr():\n",
    "    Qr_ID=Qr_Id_Entry_box.get()\n",
    "    Qr_Name=Qr_Name_Entry_box.get()\n",
    "    if(Qr_ID==\"\"  and  Qr_Name==\"\"):\n",
    "        messagebox.showerror(\"Error box \" ,\"please provide Name and  Id\")\n",
    "        return \n",
    "    Qr_Message=Qr_Message_Entry_box.get()\n",
    "    Final='Name: '+Qr_Name+'\\nID:'+Qr_ID+'\\nMessage: '+Qr_Message\n",
    "    url=pyqrcode.create(Final)\n",
    "    path=r'C:\\Users\\indra\\OneDrive\\Desktop' \n",
    "    cc='{}\\{}{}.png'.format(path,Qr_Name,Qr_ID)\n",
    "    list =os.listdir(path)\n",
    "    if('{}{}.png'.format(Qr_Name,Qr_ID) in list ):\n",
    "        messagebox.showinfo('notification','Pleease choose another Name Aur ID')\n",
    "    else:\n",
    "        url.png(cc, scale=5) # url.png('hh.png',scale=5,module_color=(0,25,255),backgroun=(0,255,47,255))\n",
    "        message='Qr code saved as :'+Qr_Name+Qr_ID+'.png'\n",
    "        Qr_Notification_message_label.configure(text=message) \n",
    "        res=messagebox.askyesno('Notilication','Qr code generated you can see by clicking yes  ') \n",
    "        if(res==True):\n",
    "            top=Toplevel()\n",
    "            top.geometry('400x400')\n",
    "            top.configure(bg='white')\n",
    "            img =PhotoImage(file=cc)\n",
    "            label1=Label(top,image=img,bg='white')\n",
    "            label1.place(x=10,y=30)\n",
    "            ClearIdName()\n",
    "            top.mainloop()\n",
    "           \n",
    "\n",
    "\n",
    "def ClearIdName():\n",
    "    Qr_Id_Entry_box.delete(0,'end')\n",
    "    Qr_Name_Entry_box.delete(0,'end')\n",
    "    Qr_Message_Entry_box.delete(0,'end')\n",
    "    Qr_Notification_message_label.configure(text='')\n",
    "\n",
    "\n",
    "def QuitRoot():\n",
    "    res=messagebox.askokcancel('Notification','Are you sure ,you want to Quit? ')\n",
    "    if(res==True):\n",
    "        root.destroy()\n",
    "    else:\n",
    "        pass\n",
    "\n",
    "###########################################\n",
    "####labels\n",
    "\n",
    "\n",
    "Qr_Id_label = Label(master=root,text='Enter your Id: ' , bg='black' , fg='white'\n",
    "                    ,width=20,height=1,font=('times',12,'italic bold'))\n",
    "Qr_Id_label.place(x=10,y=20)\n",
    "\n",
    "Qr_Name_label = Label(master=root,text='Enter your name: ' , bg='black' , fg='white'\n",
    "                    ,width=20,height=1,font=('times',12,'italic bold'))\n",
    "Qr_Name_label.place(x=10,y=60)\n",
    "\n",
    "\n",
    "Qr_Message_label = Label(master=root,text='Enter your message: ' , bg='black' , fg='white'\n",
    "                    ,width=20,height=1,font=('times',12,'italic bold'))\n",
    "Qr_Message_label .place(x=10,y=100)\n",
    "\n",
    "##QR notification lable\n",
    "Qr_Notification_label = Label(master=root,text=' Notification:-- ' , bg='black' , fg='white'\n",
    "                    ,width=20,height=1,font=('times',12,'italic bold'))\n",
    "Qr_Notification_label.place(x=10,y=350)\n",
    "\n",
    "##QR notification  message lable\n",
    "Qr_Notification_message_label = Label(master=root,text='   ' , bg='powder blue' , fg='white'\n",
    "                    ,width=25,height=1,font=('times',12,'italic bold'))\n",
    "Qr_Notification_message_label.place(x=250,y=350)\n",
    "\n",
    "\n",
    "#########################\n",
    "#Entry Boxes\n",
    "\n",
    "Qr_Id_Entry_box=Entry(master=root,width=25,bd=2,bg='pink',font=('times',12,'italic bold'))\n",
    "Qr_Id_Entry_box.place(x=200,y=20)\n",
    "\n",
    "##\n",
    "Qr_Name_Entry_box=Entry(master=root,width=25,bd=2,bg='pink',font=('times',12,'italic bold'))\n",
    "Qr_Name_Entry_box.place(x=200,y=60)\n",
    "\n",
    "##\n",
    "Qr_Message_Entry_box=Entry(master=root,width=25,bd=2,bg='pink',font=('times',12,'italic bold'))\n",
    "Qr_Message_Entry_box.place(x=200,y=100)\n",
    "####################################################\n",
    "##button logo\n",
    "\n",
    "Generate_Qr_Image=PhotoImage(file='generate.png')\n",
    "Generate_Qr_Image=Generate_Qr_Image.subsample(2,2);\n",
    "\n",
    "Clear_Id_NameImage=PhotoImage(file='clear.png')\n",
    "Clear_Id_NameImage=Clear_Id_NameImage.subsample(2,2)\n",
    "\n",
    "Quit_Root_Image=PhotoImage(file='cancel.png')\n",
    "Quit_Root_Image=Quit_Root_Image.subsample(2,2)\n",
    "\n",
    "\n",
    "##########################\n",
    "#button\n",
    "Genarate_Qrimage_button=Button(master=root,text='Generate',bd=5,width=100,command=generateQr,\n",
    "                      activebackground='green',compound=RIGHT ,image=Generate_Qr_Image, font=('times',12,'bold'),bg='powder blue');\n",
    "Genarate_Qrimage_button.place(x=10,y=280)\n",
    "\n",
    "##\n",
    "clear_Id_Name_button =Button(master=root,text='Clear',bd=5,width=100,command=ClearIdName,\n",
    "                      activebackground='white', compound=RIGHT ,image=Clear_Id_NameImage, font=('times',12,'bold'),bg='powder blue');\n",
    "clear_Id_Name_button.place(x=200,y=280)\n",
    "\n",
    "##\n",
    "Quit_root_BUtton=Button(master=root,text='Quit',bd=5,width=100,command=QuitRoot,\n",
    "                      activebackground='red', compound=RIGHT ,image=Quit_Root_Image,font=('times',12,'bold'),bg='powder blue');\n",
    "Quit_root_BUtton .place(x=400,y=280)\n",
    "#####################################################################################\n",
    "##Hover Effect\n",
    "def Genarate_Qrimage_buttonEnter(e):\n",
    "    Genarate_Qrimage_button['bg']='purple'\n",
    "def Genarate_Qrimage_buttonLeave(e):\n",
    "    Genarate_Qrimage_button['bg']='powder blue'\n",
    "\n",
    "def clear_Id_Name_buttonEnter(e):\n",
    "    clear_Id_Name_button['bg']='purple'\n",
    "def clear_Id_Name_buttonLeave(e):\n",
    "    clear_Id_Name_button['bg']='powder blue'\n",
    "\n",
    "def Quit_root_BUttonEnter(e):\n",
    "    Quit_root_BUtton['bg']='purple'\n",
    "def Quit_root_BUttonLeave(e):\n",
    "    Quit_root_BUtton['bg']='powder blue'\n",
    "\n",
    "Genarate_Qrimage_button.bind('<Enter>',Genarate_Qrimage_buttonEnter)\n",
    "Genarate_Qrimage_button.bind('<Leave>',Genarate_Qrimage_buttonLeave)\n",
    "\n",
    "clear_Id_Name_button.bind('<Enter>',clear_Id_Name_buttonEnter)\n",
    "clear_Id_Name_button.bind('<Leave>',clear_Id_Name_buttonLeave)\n",
    "\n",
    "Quit_root_BUtton.bind('<Enter>',Quit_root_BUttonEnter)\n",
    "Quit_root_BUtton.bind('<Leave>',Quit_root_BUttonLeave)\n",
    "\n",
    "root.mainloop()"
   ]
  }
 ],
 "metadata": {
  "kernelspec": {
   "display_name": "Python 3 (ipykernel)",
   "language": "python",
   "name": "python3"
  },
  "language_info": {
   "codemirror_mode": {
    "name": "ipython",
    "version": 3
   },
   "file_extension": ".py",
   "mimetype": "text/x-python",
   "name": "python",
   "nbconvert_exporter": "python",
   "pygments_lexer": "ipython3",
   "version": "3.9.1"
  }
 },
 "nbformat": 4,
 "nbformat_minor": 5
}
