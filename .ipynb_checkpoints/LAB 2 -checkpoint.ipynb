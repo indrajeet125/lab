{
 "cells": [
  {
   "cell_type": "code",
   "execution_count": 2,
   "id": "6460a119",
   "metadata": {},
   "outputs": [],
   "source": [
    "import numpy as np\n",
    "import pandas as pd"
   ]
  },
  {
   "cell_type": "markdown",
   "id": "def35917",
   "metadata": {},
   "source": [
    "# first Question"
   ]
  },
  {
   "cell_type": "code",
   "execution_count": 31,
   "id": "e329f425",
   "metadata": {},
   "outputs": [
    {
     "name": "stdout",
     "output_type": "stream",
     "text": [
      "       0      1      2      3      4      5      6      7      8      9  \\\n",
      "0   43.8   60.5  190.2  144.7  240.9  210.3  219.7  176.3  199.1  109.2   \n",
      "1   49.9   54.3  109.7  102.0  134.5  211.2  174.1  207.5  108.2  113.5   \n",
      "2   63.7   72.0  142.3   93.5  150.1  158.7  127.9  135.5   92.3  102.5   \n",
      "3   51.0   57.9  133.4  110.9  112.4  199.3  124.0  178.3  102.1  100.7   \n",
      "4   69.5   94.3  187.6  152.5  170.2  226.9  237.6  242.7  177.3  101.3   \n",
      "..   ...    ...    ...    ...    ...    ...    ...    ...    ...    ...   \n",
      "76  65.4   66.3   79.3  136.3  226.4  177.6  192.0  235.7  155.4   92.0   \n",
      "77  54.9   73.1   95.5  152.5  165.7  246.2  303.7  167.2  156.5  109.0   \n",
      "78  79.8   67.6  165.4  210.7  165.5  149.0  195.1  209.2  142.6  102.5   \n",
      "79  62.4  124.1  115.2  161.2  173.2  223.8  198.5  141.8  113.5  132.2   \n",
      "80  69.3   64.5  161.4  168.4  226.1  203.3  212.3  190.6  163.7  109.7   \n",
      "\n",
      "       10    11  \n",
      "0    78.7  67.0  \n",
      "1    68.7  23.3  \n",
      "2    62.4  38.5  \n",
      "3    55.7  58.0  \n",
      "4    53.9  59.0  \n",
      "..    ...   ...  \n",
      "76   88.0  55.7  \n",
      "77  101.2  42.7  \n",
      "78   86.9  57.2  \n",
      "79   67.0  73.5  \n",
      "80   73.5  61.5  \n",
      "\n",
      "[81 rows x 12 columns]\n",
      "\n",
      " decade average is \n",
      "\n"
     ]
    },
    {
     "ename": "KeyError",
     "evalue": "(0, 11)",
     "output_type": "error",
     "traceback": [
      "\u001b[1;31m---------------------------------------------------------------------------\u001b[0m",
      "\u001b[1;31mKeyError\u001b[0m                                  Traceback (most recent call last)",
      "File \u001b[1;32mc:\\users\\indra\\appdata\\local\\programs\\python\\python39\\lib\\site-packages\\pandas\\core\\indexes\\base.py:3621\u001b[0m, in \u001b[0;36mIndex.get_loc\u001b[1;34m(self, key, method, tolerance)\u001b[0m\n\u001b[0;32m   3620\u001b[0m \u001b[38;5;28;01mtry\u001b[39;00m:\n\u001b[1;32m-> 3621\u001b[0m     \u001b[38;5;28;01mreturn\u001b[39;00m \u001b[38;5;28;43mself\u001b[39;49m\u001b[38;5;241;43m.\u001b[39;49m\u001b[43m_engine\u001b[49m\u001b[38;5;241;43m.\u001b[39;49m\u001b[43mget_loc\u001b[49m\u001b[43m(\u001b[49m\u001b[43mcasted_key\u001b[49m\u001b[43m)\u001b[49m\n\u001b[0;32m   3622\u001b[0m \u001b[38;5;28;01mexcept\u001b[39;00m \u001b[38;5;167;01mKeyError\u001b[39;00m \u001b[38;5;28;01mas\u001b[39;00m err:\n",
      "File \u001b[1;32mc:\\users\\indra\\appdata\\local\\programs\\python\\python39\\lib\\site-packages\\pandas\\_libs\\index.pyx:136\u001b[0m, in \u001b[0;36mpandas._libs.index.IndexEngine.get_loc\u001b[1;34m()\u001b[0m\n",
      "File \u001b[1;32mc:\\users\\indra\\appdata\\local\\programs\\python\\python39\\lib\\site-packages\\pandas\\_libs\\index.pyx:163\u001b[0m, in \u001b[0;36mpandas._libs.index.IndexEngine.get_loc\u001b[1;34m()\u001b[0m\n",
      "File \u001b[1;32mpandas\\_libs\\hashtable_class_helper.pxi:5198\u001b[0m, in \u001b[0;36mpandas._libs.hashtable.PyObjectHashTable.get_item\u001b[1;34m()\u001b[0m\n",
      "File \u001b[1;32mpandas\\_libs\\hashtable_class_helper.pxi:5206\u001b[0m, in \u001b[0;36mpandas._libs.hashtable.PyObjectHashTable.get_item\u001b[1;34m()\u001b[0m\n",
      "\u001b[1;31mKeyError\u001b[0m: (0, 11)",
      "\nThe above exception was the direct cause of the following exception:\n",
      "\u001b[1;31mKeyError\u001b[0m                                  Traceback (most recent call last)",
      "Input \u001b[1;32mIn [31]\u001b[0m, in \u001b[0;36m<module>\u001b[1;34m\u001b[0m\n\u001b[0;32m     13\u001b[0m \u001b[38;5;66;03m# months = np.array([\"january\", \"february\", \"march\", \"april\", \"may\", \"june\",\u001b[39;00m\n\u001b[0;32m     14\u001b[0m \u001b[38;5;66;03m#                   \"july\", \"august\", \"september\", \"october\", \"november\", \"december\"])\u001b[39;00m\n\u001b[0;32m     15\u001b[0m \n\u001b[1;32m   (...)\u001b[0m\n\u001b[0;32m     20\u001b[0m \u001b[38;5;66;03m# print(f'\\n\\nBest weather is {avg[betteridx]} in month {months[betteridx]} ')\u001b[39;00m\n\u001b[0;32m     21\u001b[0m \u001b[38;5;66;03m# print(f'\\n\\nAverage for each year.....\\n{ data.mean(axis=1) }')\u001b[39;00m\n\u001b[0;32m     22\u001b[0m \u001b[38;5;28mprint\u001b[39m(\u001b[38;5;124m\"\u001b[39m\u001b[38;5;130;01m\\n\u001b[39;00m\u001b[38;5;124m decade average is \u001b[39m\u001b[38;5;130;01m\\n\u001b[39;00m\u001b[38;5;124m\"\u001b[39m)\n\u001b[1;32m---> 23\u001b[0m \u001b[43mdecadeavg\u001b[49m\u001b[43m(\u001b[49m\u001b[43mdata\u001b[49m\u001b[43m)\u001b[49m\n",
      "Input \u001b[1;32mIn [31]\u001b[0m, in \u001b[0;36mdecadeavg\u001b[1;34m(data)\u001b[0m\n\u001b[0;32m      5\u001b[0m gap\u001b[38;5;241m=\u001b[39m\u001b[38;5;241m10\u001b[39m\n\u001b[0;32m      6\u001b[0m \u001b[38;5;28;01mfor\u001b[39;00m i \u001b[38;5;129;01min\u001b[39;00m \u001b[38;5;28mrange\u001b[39m(start,r,gap):\n\u001b[1;32m----> 7\u001b[0m     temparr\u001b[38;5;241m=\u001b[39m\u001b[43mdata\u001b[49m\u001b[43m[\u001b[49m\u001b[43mi\u001b[49m\u001b[43m:\u001b[49m\u001b[43m \u001b[49m\u001b[43mi\u001b[49m\u001b[38;5;241;43m+\u001b[39;49m\u001b[43mgap\u001b[49m\u001b[43m]\u001b[49m\u001b[43m[\u001b[49m\u001b[38;5;241;43m0\u001b[39;49m\u001b[43m,\u001b[49m\u001b[38;5;241;43m11\u001b[39;49m\u001b[43m]\u001b[49m\n\u001b[0;32m      8\u001b[0m     \u001b[38;5;28mprint\u001b[39m(temparr)    \n\u001b[0;32m      9\u001b[0m     \u001b[38;5;28mprint\u001b[39m(\u001b[38;5;124mf\u001b[39m\u001b[38;5;124m\"\u001b[39m\u001b[38;5;124mdecade from \u001b[39m\u001b[38;5;132;01m{\u001b[39;00mi\u001b[38;5;132;01m}\u001b[39;00m\u001b[38;5;124m to \u001b[39m\u001b[38;5;132;01m{\u001b[39;00mi\u001b[38;5;241m+\u001b[39m\u001b[38;5;241m10\u001b[39m\u001b[38;5;132;01m}\u001b[39;00m\u001b[38;5;124m: \u001b[39m\u001b[38;5;132;01m{\u001b[39;00mnp\u001b[38;5;241m.\u001b[39mmean(temparr,axis\u001b[38;5;241m=\u001b[39m\u001b[38;5;241m0\u001b[39m)\u001b[38;5;132;01m}\u001b[39;00m\u001b[38;5;124m\"\u001b[39m)\n",
      "File \u001b[1;32mc:\\users\\indra\\appdata\\local\\programs\\python\\python39\\lib\\site-packages\\pandas\\core\\frame.py:3506\u001b[0m, in \u001b[0;36mDataFrame.__getitem__\u001b[1;34m(self, key)\u001b[0m\n\u001b[0;32m   3504\u001b[0m \u001b[38;5;28;01mif\u001b[39;00m \u001b[38;5;28mself\u001b[39m\u001b[38;5;241m.\u001b[39mcolumns\u001b[38;5;241m.\u001b[39mnlevels \u001b[38;5;241m>\u001b[39m \u001b[38;5;241m1\u001b[39m:\n\u001b[0;32m   3505\u001b[0m     \u001b[38;5;28;01mreturn\u001b[39;00m \u001b[38;5;28mself\u001b[39m\u001b[38;5;241m.\u001b[39m_getitem_multilevel(key)\n\u001b[1;32m-> 3506\u001b[0m indexer \u001b[38;5;241m=\u001b[39m \u001b[38;5;28;43mself\u001b[39;49m\u001b[38;5;241;43m.\u001b[39;49m\u001b[43mcolumns\u001b[49m\u001b[38;5;241;43m.\u001b[39;49m\u001b[43mget_loc\u001b[49m\u001b[43m(\u001b[49m\u001b[43mkey\u001b[49m\u001b[43m)\u001b[49m\n\u001b[0;32m   3507\u001b[0m \u001b[38;5;28;01mif\u001b[39;00m is_integer(indexer):\n\u001b[0;32m   3508\u001b[0m     indexer \u001b[38;5;241m=\u001b[39m [indexer]\n",
      "File \u001b[1;32mc:\\users\\indra\\appdata\\local\\programs\\python\\python39\\lib\\site-packages\\pandas\\core\\indexes\\base.py:3623\u001b[0m, in \u001b[0;36mIndex.get_loc\u001b[1;34m(self, key, method, tolerance)\u001b[0m\n\u001b[0;32m   3621\u001b[0m     \u001b[38;5;28;01mreturn\u001b[39;00m \u001b[38;5;28mself\u001b[39m\u001b[38;5;241m.\u001b[39m_engine\u001b[38;5;241m.\u001b[39mget_loc(casted_key)\n\u001b[0;32m   3622\u001b[0m \u001b[38;5;28;01mexcept\u001b[39;00m \u001b[38;5;167;01mKeyError\u001b[39;00m \u001b[38;5;28;01mas\u001b[39;00m err:\n\u001b[1;32m-> 3623\u001b[0m     \u001b[38;5;28;01mraise\u001b[39;00m \u001b[38;5;167;01mKeyError\u001b[39;00m(key) \u001b[38;5;28;01mfrom\u001b[39;00m \u001b[38;5;21;01merr\u001b[39;00m\n\u001b[0;32m   3624\u001b[0m \u001b[38;5;28;01mexcept\u001b[39;00m \u001b[38;5;167;01mTypeError\u001b[39;00m:\n\u001b[0;32m   3625\u001b[0m     \u001b[38;5;66;03m# If we have a listlike key, _check_indexing_error will raise\u001b[39;00m\n\u001b[0;32m   3626\u001b[0m     \u001b[38;5;66;03m#  InvalidIndexError. Otherwise we fall through and re-raise\u001b[39;00m\n\u001b[0;32m   3627\u001b[0m     \u001b[38;5;66;03m#  the TypeError.\u001b[39;00m\n\u001b[0;32m   3628\u001b[0m     \u001b[38;5;28mself\u001b[39m\u001b[38;5;241m.\u001b[39m_check_indexing_error(key)\n",
      "\u001b[1;31mKeyError\u001b[0m: (0, 11)"
     ]
    }
   ],
   "source": [
    "def decadeavg(data):\n",
    "#    rat ko karna h \n",
    "    r,c=data.shape\n",
    "    start=0\n",
    "    gap=10\n",
    "    for i in range(start,r,gap):\n",
    "        temparr=data[i: i+gap][0,11]\n",
    "        print(temparr)    \n",
    "        print(f\"decade from {i} to {i+10}: {np.mean(temparr,axis=0)}\")\n",
    "\n",
    "data = pd.read_csv(\"data.csv\")\n",
    "print(data)\n",
    "# months = np.array([\"january\", \"february\", \"march\", \"april\", \"may\", \"june\",\n",
    "#                   \"july\", \"august\", \"september\", \"october\", \"november\", \"december\"])\n",
    "\n",
    "# avg = data.mean(axis=0)\n",
    "\n",
    "# print(f'Average for each month.....\\n{ avg }')\n",
    "# betteridx = np.argmax(avg)\n",
    "# print(f'\\n\\nBest weather is {avg[betteridx]} in month {months[betteridx]} ')\n",
    "# print(f'\\n\\nAverage for each year.....\\n{ data.mean(axis=1) }')\n",
    "print(\"\\n decade average is \\n\")\n",
    "decadeavg(data)\n"
   ]
  },
  {
   "cell_type": "markdown",
   "id": "ae5c5b1c",
   "metadata": {},
   "source": [
    "# Second Question"
   ]
  },
  {
   "cell_type": "code",
   "execution_count": 11,
   "id": "b8f365d7",
   "metadata": {},
   "outputs": [
    {
     "name": "stdout",
     "output_type": "stream",
     "text": [
      "[     2      3      5     13     89    233   1597  28657 514229]\n"
     ]
    }
   ],
   "source": [
    "# find n number fibbonacci as well as prime \n",
    "\n",
    "def prime(n):\n",
    "    flag=True\n",
    "    if(n==1): return False\n",
    "    for i in range(2,int(np.sqrt(n))+1):\n",
    "        if(n%i==0):\n",
    "            flag=False\n",
    "    return flag\n",
    "def n_fib_prime(n):\n",
    "    count=0\n",
    "    a,b=0,1\n",
    "    arr=np.array([],int)\n",
    "    while(n):\n",
    "        c=a+b\n",
    "        if(prime(c)):\n",
    "            arr=np.append(arr,c)\n",
    "            n-=1\n",
    "        a=b\n",
    "        b=c\n",
    "    return arr\n",
    "n=int(input(\"Enter a number \"))\n",
    "print(n_fib_prime(n))"
   ]
  },
  {
   "cell_type": "markdown",
   "id": "c6e46851",
   "metadata": {},
   "source": [
    "# Third\n"
   ]
  },
  {
   "cell_type": "code",
   "execution_count": 12,
   "id": "39681731",
   "metadata": {},
   "outputs": [
    {
     "data": {
      "text/plain": [
       "array([[2., 2., 2., 2., 2., 2.],\n",
       "       [2., 2., 2., 2., 2., 2.],\n",
       "       [2., 2., 2., 2., 2., 2.],\n",
       "       [2., 2., 2., 2., 2., 2.],\n",
       "       [2., 2., 2., 2., 2., 2.]])"
      ]
     },
     "execution_count": 12,
     "metadata": {},
     "output_type": "execute_result"
    }
   ],
   "source": [
    "def twos(m,n):\n",
    "    arr= np.ones((m,n))\n",
    "    arr=arr*2\n",
    "    return arr\n",
    "m=int(input(\"give me two number \"))\n",
    "n=int(input())\n",
    "twos(m,n)"
   ]
  },
  {
   "cell_type": "markdown",
   "id": "d80c6a2d",
   "metadata": {},
   "source": [
    "# Fourth"
   ]
  },
  {
   "cell_type": "code",
   "execution_count": 18,
   "id": "46d6a5f1",
   "metadata": {},
   "outputs": [
    {
     "name": "stdout",
     "output_type": "stream",
     "text": [
      "[1. 2.]\n"
     ]
    }
   ],
   "source": [
    "# find value with given tolerence\n",
    "def with_tolerance(A, a, tol):\n",
    "    # arr = [i for i in range(len(A)) if(np.abs(A[i]-a) < tol)]\n",
    "    # return arr\n",
    "    A =A[abs(A-a)<tol]\n",
    "    return A \n",
    "\n",
    "A = np.array(([0.0, 1.0, 2.0, 3.0]))\n",
    "print(with_tolerance(A, 1.5, 0.75))\n"
   ]
  },
  {
   "cell_type": "markdown",
   "id": "04d4c903",
   "metadata": {},
   "source": [
    "# fifth "
   ]
  },
  {
   "cell_type": "code",
   "execution_count": 4,
   "id": "d73a0f6e",
   "metadata": {},
   "outputs": [
    {
     "name": "stdout",
     "output_type": "stream",
     "text": [
      "x=4 ,f(x)=32,f'x=11.00000099540921\n"
     ]
    }
   ],
   "source": [
    "# find derivative  of polynomial\n",
    "def fg(f,x,h=1e-6):\n",
    "    fx=f(x)\n",
    "    fdx=(f(x+h)-f(x))/h\n",
    "    return [fx,fdx]\n",
    "def f(x):\n",
    "    return x**2+3*x+4\n",
    "x=int(input(\"Enter x value:\"))\n",
    "values=fg(f,x)\n",
    "print(f\"x={x} ,f(x)={values[0]},f'x={values[1]}\")\n",
    "    "
   ]
  }
 ],
 "metadata": {
  "kernelspec": {
   "display_name": "Python 3 (ipykernel)",
   "language": "python",
   "name": "python3"
  },
  "language_info": {
   "codemirror_mode": {
    "name": "ipython",
    "version": 3
   },
   "file_extension": ".py",
   "mimetype": "text/x-python",
   "name": "python",
   "nbconvert_exporter": "python",
   "pygments_lexer": "ipython3",
   "version": "3.9.1"
  }
 },
 "nbformat": 4,
 "nbformat_minor": 5
}
