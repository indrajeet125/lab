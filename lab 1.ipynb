{
 "cells": [
  {
   "cell_type": "code",
   "execution_count": 23,
   "id": "0c4a9fd6",
   "metadata": {},
   "outputs": [],
   "source": [
    "import numpy as np\n",
    "import math as mt"
   ]
  },
  {
   "cell_type": "markdown",
   "id": "11fb1677",
   "metadata": {},
   "source": [
    " # first program"
   ]
  },
  {
   "cell_type": "code",
   "execution_count": 62,
   "id": "5957fe7c",
   "metadata": {},
   "outputs": [
    {
     "name": "stdout",
     "output_type": "stream",
     "text": [
      " approximate value by using  formula:0.31830988618379114\n",
      " approximate value by using library :0.3183098861837907\n",
      " differece  value  :-4.440892098500626e-16\n"
     ]
    }
   ],
   "source": [
    "n = int(input(\"enter a number \"))\n",
    "sumpi = 0\n",
    "while(n >= 0):\n",
    "    sumpi += (2*np.sqrt(2)/9801)*((np.math.factorial(4*n) *(1103+26390*n)) / (np.math.factorial(n) * np.math.pow(396, 4*n)))\n",
    "    n -= 1\n",
    "temp = 1/np.pi\n",
    "print(f' approximate value by using  formula:{sumpi}')\n",
    "print(f' approximate value by using library :{temp}')\n",
    "print(f' differece  value  :{float(temp-sumpi)}')\n"
   ]
  },
  {
   "cell_type": "markdown",
   "id": "715c0df0",
   "metadata": {},
   "source": [
    "# second program"
   ]
  },
  {
   "cell_type": "code",
   "execution_count": 5,
   "id": "d8f7a809",
   "metadata": {},
   "outputs": [
    {
     "name": "stdout",
     "output_type": "stream",
     "text": [
      "enter  x for first point 2\n",
      "enter  y for first point 3\n",
      "enter  x for second  point 4\n",
      "enter  y for second point 4\n",
      "0.5\n"
     ]
    }
   ],
   "source": [
    "x1 =int (input(\"enter  x for first point \"))\n",
    "y1 =int (input(\"enter  y for first point \"))\n",
    "x2 =int (input(\"enter  x for second  point \"))\n",
    "y2 =int (input(\"enter  y for second point \"))\n",
    "slop=(y2-y1)/(x2-x1)\n",
    "print(slop)"
   ]
  },
  {
   "cell_type": "markdown",
   "id": "b46a0cbf",
   "metadata": {},
   "source": [
    "# third program "
   ]
  },
  {
   "cell_type": "code",
   "execution_count": 63,
   "id": "fa7bb848",
   "metadata": {},
   "outputs": [
    {
     "name": "stdout",
     "output_type": "stream",
     "text": [
      "value uing formula 201.71315737027922\n",
      "value uing inbuilt library  201.71315737027922\n",
      "difference is 0.0\n"
     ]
    }
   ],
   "source": [
    "## hyperbolic function\n",
    "x=int(input(\"enter x : \"))\n",
    "sinx=(np.exp(x)-np.exp(-x))/2\n",
    "print(f'value uing formula {sinx}')\n",
    "\n",
    "print(f'value uing inbuilt library  {np.sinh(x)}')\n",
    "print(f\"difference is {sinx-np.sinh(x)}\")"
   ]
  },
  {
   "cell_type": "markdown",
   "id": "5c4971a0",
   "metadata": {},
   "source": [
    "# fourth program\n"
   ]
  },
  {
   "cell_type": "code",
   "execution_count": 4,
   "id": "ed038136",
   "metadata": {},
   "outputs": [
    {
     "data": {
      "text/plain": [
       "-119.93285416086444"
      ]
     },
     "execution_count": 4,
     "metadata": {},
     "output_type": "execute_result"
    }
   ],
   "source": [
    "ans=np.exp(2)*np.sin(np.pi/6)+np.log2(3)*np.cos(np.pi/6)-np.power(5,3)\n",
    "ans\n",
    " "
   ]
  }
 ],
 "metadata": {
  "kernelspec": {
   "display_name": "Python 3 (ipykernel)",
   "language": "python",
   "name": "python3"
  },
  "language_info": {
   "codemirror_mode": {
    "name": "ipython",
    "version": 3
   },
   "file_extension": ".py",
   "mimetype": "text/x-python",
   "name": "python",
   "nbconvert_exporter": "python",
   "pygments_lexer": "ipython3",
   "version": "3.9.1"
  }
 },
 "nbformat": 4,
 "nbformat_minor": 5
}
