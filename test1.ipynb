{
 "cells": [
  {
   "cell_type": "code",
   "execution_count": 10,
   "metadata": {},
   "outputs": [
    {
     "name": "stdout",
     "output_type": "stream",
     "text": [
      "56\n",
      "88\n",
      "88\n",
      "64\n",
      "120\n",
      "120\n",
      "120\n"
     ]
    }
   ],
   "source": [
    "import sys\n",
    "lst = []\n",
    "print(sys.getsizeof(lst))\n",
    "lst.append(1)\n",
    "print(sys.getsizeof(lst))\n",
    "lst.append(2)\n",
    "print(sys.getsizeof(lst))\n",
    " \n",
    "lst = [1]\n",
    "print(sys.getsizeof(lst))\n",
    "lst.append(1)\n",
    "print(sys.getsizeof(lst))\n",
    "lst.append(2)\n",
    "print(sys.getsizeof(lst))\n",
    "lst.append(3)\n",
    "print(sys.getsizeof(lst))\n",
    " \n",
    "\n",
    " "
   ]
  }
 ],
 "metadata": {
  "interpreter": {
   "hash": "9b9c2c0f3bb24af24075e74a0affdca490cc30014226d11df2add8b2138b86c3"
  },
  "kernelspec": {
   "display_name": "Python 3.9.1 64-bit",
   "language": "python",
   "name": "python3"
  },
  "language_info": {
   "codemirror_mode": {
    "name": "ipython",
    "version": 3
   },
   "file_extension": ".py",
   "mimetype": "text/x-python",
   "name": "python",
   "nbconvert_exporter": "python",
   "pygments_lexer": "ipython3",
   "version": "3.9.1"
  },
  "orig_nbformat": 4
 },
 "nbformat": 4,
 "nbformat_minor": 2
}
