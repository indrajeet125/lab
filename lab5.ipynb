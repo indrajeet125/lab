{
 "cells": [
  {
   "cell_type": "markdown",
   "metadata": {},
   "source": [
    "## Question 1"
   ]
  },
  {
   "cell_type": "code",
   "execution_count": 1,
   "metadata": {},
   "outputs": [
    {
     "name": "stdout",
     "output_type": "stream",
     "text": [
      "longest line is :John van neuman\n",
      "\n"
     ]
    }
   ],
   "source": [
    "source=open(\"./file/famous.txt\")\n",
    "longhestlenghtline=source.readline()\n",
    "for line in source:\n",
    "    if(len(line)>len(longhestlenghtline)):\n",
    "        longhestlenghtline=line\n",
    "print(f\"longest line is :{longhestlenghtline}\")\n",
    "source.close()"
   ]
  },
  {
   "cell_type": "markdown",
   "metadata": {},
   "source": [
    "## Question 2 "
   ]
  },
  {
   "cell_type": "code",
   "execution_count": 4,
   "metadata": {},
   "outputs": [
    {
     "name": "stdout",
     "output_type": "stream",
     "text": [
      "Name is ['Bill Clinton ', 'George W. Bush '] and age 1946\n"
     ]
    }
   ],
   "source": [
    "source = open(\"./file/nameborn.txt\")\n",
    "youngestname = []\n",
    "source.readline()  # for scaping Heading\n",
    "ansage = 0\n",
    "ansname = []\n",
    "for line in source.read().split(\"\\n\"):\n",
    "    name = \"\"\n",
    "    age = 0\n",
    "    for letter in line:\n",
    "        if(letter.isdigit()):\n",
    "            age = age*10+int(letter)\n",
    "        else :\n",
    "            name += letter    \n",
    "    if(ansage < age):\n",
    "        ansage = age\n",
    "        ansname = [name]\n",
    "    elif(ansage == age):\n",
    "        ansname +=[name]        \n",
    "print(f\"Name is {ansname} and age {ansage}\")\n",
    "source.close()"
   ]
  },
  {
   "cell_type": "markdown",
   "metadata": {},
   "source": [
    "## Question 3 ##"
   ]
  },
  {
   "cell_type": "code",
   "execution_count": 5,
   "metadata": {},
   "outputs": [],
   "source": [
    " \n",
    "data=[ \n",
    "[0.75,0.29619813,-0.29619812,-0.75],\n",
    "[0.29619817,0.1169778,-0.1169778,0.29619813],\n",
    "[0.296189813,-0.116978,0.1169778,0.29619813],\n",
    "[-0.75,0.29619813,0.29619813,0.75]\n",
    "]\n",
    "source=open(\"./file/data.txt\",'w')\n",
    "for oned in data:\n",
    "    for element in oned:\n",
    "        source.write(str(element)+\"\\t\\t\")\n",
    "    source.write(\"\\n\")\n",
    "\n",
    "# source.writable()\n",
    "source.close()"
   ]
  },
  {
   "cell_type": "markdown",
   "metadata": {},
   "source": [
    "## Question 4"
   ]
  },
  {
   "cell_type": "code",
   "execution_count": 64,
   "metadata": {},
   "outputs": [],
   "source": [
    "import numpy\n",
    "data=[\n",
    "[\"Alpha century A\",4.3, 2.6 ,1.56],\n",
    "[\"Alpha century B\", 4.3, 0.77,  0.45],\n",
    "[\"Alpha century B\", 4.2 ,0.00001, 0.00006],\n",
    "[\"Wolf 359\", 7.7, 0.000011,0.000002],\n",
    "[\"Barhard's stor \", 6.0, 0.00004, 0.0006],\n",
    "['BD+36 degree c2147', 8.2, 0.0003 ,0.006],\n",
    "[\"luyten 726-8A\", 8.4, 0.000003, 0.00006],\n",
    "[\"luyten 726-8A\", 8.4, 0.000003, 0.00004],\n",
    "[\"Serious A\", 8.6, 1.00, 23.6],\n",
    "[\"Serious A\", 8.6, 0.001, 0.003],\n",
    "[\"ROS 154\" ,9.4, 0.00002, 0.00005]\n",
    "]\n",
    "# source=open(\"./file/data.txt\",'w')\n",
    "file1=open(\"./file/prop1.txt\",\"w\")\n",
    "file2=open(\"./file/prop2.txt\",\"w\")\n",
    "file3=open(\"./file/prop3.txt\",\"w\")\n",
    "\n",
    "for row in data:\n",
    "    d1=row[0]\n",
    "    d2=str(row[1])\n",
    "    d3=str(row[2])\n",
    "    d4=str(row[3])\n",
    "    file1.write(str( d1+\" \"+d2)+\"\\n\")\n",
    "    file2.write(str(d1+\" \"+d3)+\"\\n\")\n",
    "    file3.write(str(d1+\" \"+d4)+\"\\n\")\n",
    "\n",
    "\n",
    "\n",
    "file1.close()\n",
    "file2.close()\n",
    "file3.close()\n",
    "\n",
    " "
   ]
  }
 ],
 "metadata": {
  "interpreter": {
   "hash": "9b9c2c0f3bb24af24075e74a0affdca490cc30014226d11df2add8b2138b86c3"
  },
  "kernelspec": {
   "display_name": "Python 3.9.1 64-bit",
   "language": "python",
   "name": "python3"
  },
  "language_info": {
   "codemirror_mode": {
    "name": "ipython",
    "version": 3
   },
   "file_extension": ".py",
   "mimetype": "text/x-python",
   "name": "python",
   "nbconvert_exporter": "python",
   "pygments_lexer": "ipython3",
   "version": "3.9.1"
  },
  "orig_nbformat": 4
 },
 "nbformat": 4,
 "nbformat_minor": 2
}
