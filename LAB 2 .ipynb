{
 "cells": [
  {
   "cell_type": "code",
   "execution_count": 3,
   "id": "6460a119",
   "metadata": {},
   "outputs": [],
   "source": [
    "import numpy as np\n",
    "import pandas as pd"
   ]
  },
  {
   "cell_type": "markdown",
   "id": "def35917",
   "metadata": {},
   "source": [
    "# first Question"
   ]
  },
  {
   "cell_type": "code",
   "execution_count": 3,
   "id": "e329f425",
   "metadata": {},
   "outputs": [
    {
     "ename": "NameError",
     "evalue": "name 'pd' is not defined",
     "output_type": "error",
     "traceback": [
      "\u001b[1;31m---------------------------------------------------------------------------\u001b[0m",
      "\u001b[1;31mNameError\u001b[0m                                 Traceback (most recent call last)",
      "\u001b[1;32mc:\\Users\\indra\\OneDrive\\Documents\\Python Scripts\\lab\\LAB 2 .ipynb Cell 3'\u001b[0m in \u001b[0;36m<module>\u001b[1;34m\u001b[0m\n\u001b[0;32m      <a href='vscode-notebook-cell:/c%3A/Users/indra/OneDrive/Documents/Python%20Scripts/lab/LAB%202%20.ipynb#ch0000002?line=8'>9</a>\u001b[0m         \u001b[39m# r,c=temparr.shape\u001b[39;00m\n\u001b[0;32m     <a href='vscode-notebook-cell:/c%3A/Users/indra/OneDrive/Documents/Python%20Scripts/lab/LAB%202%20.ipynb#ch0000002?line=9'>10</a>\u001b[0m         \u001b[39m# temparr.shape=1*r*c\u001b[39;00m\n\u001b[0;32m     <a href='vscode-notebook-cell:/c%3A/Users/indra/OneDrive/Documents/Python%20Scripts/lab/LAB%202%20.ipynb#ch0000002?line=10'>11</a>\u001b[0m         temparr\n\u001b[1;32m---> <a href='vscode-notebook-cell:/c%3A/Users/indra/OneDrive/Documents/Python%20Scripts/lab/LAB%202%20.ipynb#ch0000002?line=14'>15</a>\u001b[0m data \u001b[39m=\u001b[39m pd\u001b[39m.\u001b[39mread_csv(\u001b[39m\"\u001b[39m\u001b[39mdata.csv\u001b[39m\u001b[39m\"\u001b[39m)\n\u001b[0;32m     <a href='vscode-notebook-cell:/c%3A/Users/indra/OneDrive/Documents/Python%20Scripts/lab/LAB%202%20.ipynb#ch0000002?line=15'>16</a>\u001b[0m \u001b[39m# print(data)\u001b[39;00m\n\u001b[0;32m     <a href='vscode-notebook-cell:/c%3A/Users/indra/OneDrive/Documents/Python%20Scripts/lab/LAB%202%20.ipynb#ch0000002?line=16'>17</a>\u001b[0m months \u001b[39m=\u001b[39m np\u001b[39m.\u001b[39marray([\u001b[39m\"\u001b[39m\u001b[39mjanuary\u001b[39m\u001b[39m\"\u001b[39m, \u001b[39m\"\u001b[39m\u001b[39mfebruary\u001b[39m\u001b[39m\"\u001b[39m, \u001b[39m\"\u001b[39m\u001b[39mmarch\u001b[39m\u001b[39m\"\u001b[39m, \u001b[39m\"\u001b[39m\u001b[39mapril\u001b[39m\u001b[39m\"\u001b[39m, \u001b[39m\"\u001b[39m\u001b[39mmay\u001b[39m\u001b[39m\"\u001b[39m, \u001b[39m\"\u001b[39m\u001b[39mjune\u001b[39m\u001b[39m\"\u001b[39m,\n\u001b[0;32m     <a href='vscode-notebook-cell:/c%3A/Users/indra/OneDrive/Documents/Python%20Scripts/lab/LAB%202%20.ipynb#ch0000002?line=17'>18</a>\u001b[0m                   \u001b[39m\"\u001b[39m\u001b[39mjuly\u001b[39m\u001b[39m\"\u001b[39m, \u001b[39m\"\u001b[39m\u001b[39maugust\u001b[39m\u001b[39m\"\u001b[39m, \u001b[39m\"\u001b[39m\u001b[39mseptember\u001b[39m\u001b[39m\"\u001b[39m, \u001b[39m\"\u001b[39m\u001b[39moctober\u001b[39m\u001b[39m\"\u001b[39m, \u001b[39m\"\u001b[39m\u001b[39mnovember\u001b[39m\u001b[39m\"\u001b[39m, \u001b[39m\"\u001b[39m\u001b[39mdecember\u001b[39m\u001b[39m\"\u001b[39m])\n",
      "\u001b[1;31mNameError\u001b[0m: name 'pd' is not defined"
     ]
    }
   ],
   "source": [
    "def decadeavg(data):\n",
    "    ans=[]#decade part karna h \n",
    "    r,c=data.shape\n",
    "    start=0\n",
    "    gap=10\n",
    "    for i in range(start,r+1,gap):\n",
    "        temparr=data[i: i+gap][:]\n",
    "\n",
    "        # r,c=temparr.shape\n",
    "        # temparr.shape=1*r*c\n",
    "        temparr\n",
    "         \n",
    "     \n",
    "\n",
    "data = pd.read_csv(\"data.csv\")\n",
    "# print(data)\n",
    "months = np.array([\"january\", \"february\", \"march\", \"april\", \"may\", \"june\",\n",
    "                  \"july\", \"august\", \"september\", \"october\", \"november\", \"december\"])\n",
    "\n",
    "avg = data.mean(axis=0)\n",
    "# print(f'Average for each month.....\\n{ avg }')\n",
    "# betteridx = np.argmax(avg)\n",
    "# print(f'\\n\\nBest weather is {avg[betteridx]} in month {months[betteridx]} ')\n",
    "# print(f'\\n\\nAverage for each year.....\\n{ data.mean(axis=1) }')\n",
    "# print(\"\\n decade average is \\n\")\n",
    "# decadeavg(data)\n"
   ]
  },
  {
   "cell_type": "markdown",
   "id": "ae5c5b1c",
   "metadata": {},
   "source": [
    "# Second Question"
   ]
  },
  {
   "cell_type": "code",
   "execution_count": 11,
   "id": "b8f365d7",
   "metadata": {},
   "outputs": [
    {
     "name": "stdout",
     "output_type": "stream",
     "text": [
      "[     2      3      5     13     89    233   1597  28657 514229]\n"
     ]
    }
   ],
   "source": [
    "# find n number fibbonacci as well as prime \n",
    "\n",
    "def prime(n):\n",
    "    flag=True\n",
    "    if(n==1): return False\n",
    "    for i in range(2,int(np.sqrt(n))+1):\n",
    "        if(n%i==0):\n",
    "            flag=False\n",
    "    return flag\n",
    "def n_fib_prime(n):\n",
    "    count=0\n",
    "    a,b=0,1\n",
    "    arr=np.array([],int)\n",
    "    while(n):\n",
    "        c=a+b\n",
    "        if(prime(c)):\n",
    "            arr=np.append(arr,c)\n",
    "            n-=1\n",
    "        a=b\n",
    "        b=c\n",
    "    return arr\n",
    "n=int(input(\"Enter a number \"))\n",
    "print(n_fib_prime(n))"
   ]
  },
  {
   "cell_type": "markdown",
   "id": "c6e46851",
   "metadata": {},
   "source": [
    "# Third\n"
   ]
  },
  {
   "cell_type": "code",
   "execution_count": 12,
   "id": "39681731",
   "metadata": {},
   "outputs": [
    {
     "data": {
      "text/plain": [
       "array([[2., 2., 2., 2., 2., 2.],\n",
       "       [2., 2., 2., 2., 2., 2.],\n",
       "       [2., 2., 2., 2., 2., 2.],\n",
       "       [2., 2., 2., 2., 2., 2.],\n",
       "       [2., 2., 2., 2., 2., 2.]])"
      ]
     },
     "execution_count": 12,
     "metadata": {},
     "output_type": "execute_result"
    }
   ],
   "source": [
    "def twos(m,n):\n",
    "    arr= np.ones((m,n))\n",
    "    arr=arr*2\n",
    "    return arr\n",
    "m=int(input(\"give me two number \"))\n",
    "n=int(input())\n",
    "twos(m,n)"
   ]
  },
  {
   "cell_type": "markdown",
   "id": "d80c6a2d",
   "metadata": {},
   "source": [
    "# Fourth"
   ]
  },
  {
   "cell_type": "code",
   "execution_count": 18,
   "id": "46d6a5f1",
   "metadata": {},
   "outputs": [
    {
     "name": "stdout",
     "output_type": "stream",
     "text": [
      "[1. 2.]\n"
     ]
    }
   ],
   "source": [
    "# find value with given tolerence\n",
    "def with_tolerance(A, a, tol):\n",
    "    # arr = [i for i in range(len(A)) if(np.abs(A[i]-a) < tol)]\n",
    "    # return arr\n",
    "    A =A[abs(A-a)<tol]\n",
    "    return A \n",
    "\n",
    "A = np.array(([0.0, 1.0, 2.0, 3.0]))\n",
    "print(with_tolerance(A, 1.5, 0.75))\n"
   ]
  },
  {
   "cell_type": "markdown",
   "id": "04d4c903",
   "metadata": {},
   "source": [
    "# fifth "
   ]
  },
  {
   "cell_type": "code",
   "execution_count": 4,
   "id": "d73a0f6e",
   "metadata": {},
   "outputs": [
    {
     "name": "stdout",
     "output_type": "stream",
     "text": [
      "x=4 ,f(x)=32,f'x=11.00000099540921\n"
     ]
    }
   ],
   "source": [
    "# find derivative  of polynomial\n",
    "def fg(f,x,h=1e-6):\n",
    "    fx=f(x)\n",
    "    fdx=(f(x+h)-f(x))/h\n",
    "    return [fx,fdx]\n",
    "def f(x):\n",
    "    return x**2+3*x+4\n",
    "x=int(input(\"Enter x value:\"))\n",
    "values=fg(f,x)\n",
    "print(f\"x={x} ,f(x)={values[0]},f'x={values[1]}\")\n",
    "    "
   ]
  }
 ],
 "metadata": {
  "kernelspec": {
   "display_name": "Python 3 (ipykernel)",
   "language": "python",
   "name": "python3"
  },
  "language_info": {
   "codemirror_mode": {
    "name": "ipython",
    "version": 3
   },
   "file_extension": ".py",
   "mimetype": "text/x-python",
   "name": "python",
   "nbconvert_exporter": "python",
   "pygments_lexer": "ipython3",
   "version": "3.9.1"
  }
 },
 "nbformat": 4,
 "nbformat_minor": 5
}
