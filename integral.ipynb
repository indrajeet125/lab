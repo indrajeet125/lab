{
 "cells": [
  {
   "cell_type": "code",
   "execution_count": null,
   "metadata": {},
   "outputs": [],
   "source": [
    "import numpy as np\n",
    "import scipy as sp\n",
    "import sympy as smp\n",
    "import matplotlib.pyplot as plt \n",
    "from scipy.integrate import quad ,cumulative_trapezoid"
   ]
  },
  {
   "cell_type": "markdown",
   "metadata": {},
   "source": [
    "# symbolic case\n",
    "e \n",
    "−5x\n",
    " sin \n",
    "3\n",
    " (x)"
   ]
  },
  {
   "cell_type": "code",
   "execution_count": null,
   "metadata": {},
   "outputs": [
    {
     "data": {
      "text/latex": [
       "$\\displaystyle \\sin{\\left(x^{3} \\right)}$"
      ],
      "text/plain": [
       "sin(x**3)"
      ]
     },
     "execution_count": 3,
     "metadata": {},
     "output_type": "execute_result"
    }
   ],
   "source": [
    "x=smp.symbols('x',real=True)\n",
    "smp.sin(x**3)\n"
   ]
  },
  {
   "cell_type": "code",
   "execution_count": 20,
   "metadata": {},
   "outputs": [
    {
     "name": "stdout",
     "output_type": "stream",
     "text": [
      "exp(-5*x)*sin(x)**3\n",
      "-40*exp(-5*x)*sin(x)**3/221 - 21*exp(-5*x)*sin(x)**2*cos(x)/221 - 15*exp(-5*x)*sin(x)*cos(x)**2/442 - 3*exp(-5*x)*cos(x)**3/442\n",
      "(10404*sin(x) - 1352*sin(3*x) + 4335*cos(x) - 2535*cos(3*x))*exp(-5*x)/390728\n"
     ]
    },
    {
     "data": {
      "text/latex": [
       "$\\displaystyle \\frac{\\left(10404 \\sin{\\left(x \\right)} - 1352 \\sin{\\left(3 x \\right)} + 4335 \\cos{\\left(x \\right)} - 2535 \\cos{\\left(3 x \\right)}\\right) e^{- 5 x}}{390728}$"
      ],
      "text/plain": [
       "(10404*sin(x) - 1352*sin(3*x) + 4335*cos(x) - 2535*cos(3*x))*exp(-5*x)/390728"
      ]
     },
     "execution_count": 20,
     "metadata": {},
     "output_type": "execute_result"
    }
   ],
   "source": [
    "x=smp.symbols('x',real=True)\n",
    "f=smp.sin(x)**3*smp.exp(-5*x)\n",
    "print(f)\n",
    "f=smp.integrate(f,x)\n",
    "print(f)\n",
    "f=smp.integrate(f,x).simplify()\n",
    "print(f)\n",
    "f"
   ]
  },
  {
   "cell_type": "markdown",
   "metadata": {},
   "source": [
    "find integration of e \n",
    "−ax\n",
    " cos(bx)\n",
    " "
   ]
  },
  {
   "cell_type": "code",
   "execution_count": 24,
   "metadata": {},
   "outputs": [
    {
     "name": "stdout",
     "output_type": "stream",
     "text": [
      "exp(-a*x)*cos(b*x)\n"
     ]
    },
    {
     "data": {
      "text/latex": [
       "$\\displaystyle \\frac{\\left(- a \\cos{\\left(b x \\right)} + b \\sin{\\left(b x \\right)}\\right) e^{- a x}}{a^{2} + b^{2}}$"
      ],
      "text/plain": [
       "(-a*cos(b*x) + b*sin(b*x))*exp(-a*x)/(a**2 + b**2)"
      ]
     },
     "execution_count": 24,
     "metadata": {},
     "output_type": "execute_result"
    }
   ],
   "source": [
    "a,b=smp.symbols('a b',real=True,positive=True)\n",
    "f=smp.cos(b*x)*smp.exp(-a*x)\n",
    "print(f)\n",
    "f=smp.integrate(f,x).simplify()\n",
    "f"
   ]
  },
  {
   "cell_type": "code",
   "execution_count": 26,
   "metadata": {},
   "outputs": [
    {
     "name": "stdout",
     "output_type": "stream",
     "text": [
      "(sqrt(x) + 1)**(1/3)/sqrt(x)\n"
     ]
    }
   ],
   "source": [
    "f=(1+smp.sqrt(x))**smp.Rational(1,3)/smp.sqrt(x)\n",
    "print(f)"
   ]
  }
 ],
 "metadata": {
  "interpreter": {
   "hash": "9b9c2c0f3bb24af24075e74a0affdca490cc30014226d11df2add8b2138b86c3"
  },
  "kernelspec": {
   "display_name": "Python 3.9.1 64-bit",
   "language": "python",
   "name": "python3"
  },
  "language_info": {
   "codemirror_mode": {
    "name": "ipython",
    "version": 3
   },
   "file_extension": ".py",
   "mimetype": "text/x-python",
   "name": "python",
   "nbconvert_exporter": "python",
   "pygments_lexer": "ipython3",
   "version": "3.9.1"
  },
  "orig_nbformat": 4
 },
 "nbformat": 4,
 "nbformat_minor": 2
}
