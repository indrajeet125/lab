{
 "cells": [
  {
   "cell_type": "code",
   "execution_count": 19,
   "id": "774bb62a",
   "metadata": {},
   "outputs": [],
   "source": [
    "import numpy as np\n",
    "from matplotlib.pyplot import *\n"
   ]
  },
  {
   "cell_type": "markdown",
   "id": "d94e4aef",
   "metadata": {},
   "source": [
    "# first question "
   ]
  },
  {
   "cell_type": "code",
   "execution_count": 20,
   "id": "c4c788d8",
   "metadata": {},
   "outputs": [
    {
     "name": "stdout",
     "output_type": "stream",
     "text": [
      "12\n"
     ]
    }
   ],
   "source": [
    "def poly(x, roots):\n",
    "    roots =(x-roots)\n",
    "    roots=reduce((lambda x,y:x*y),roots)\n",
    "    return roots\n",
    "\n",
    "roots = np.array([4, 5, 6, 1, 2, 4])\n",
    "x = 3 # int(input(\"give me an integer\"))\n",
    "px=poly(x,roots)\n",
    "print(px)"
   ]
  },
  {
   "cell_type": "markdown",
   "id": "db129b47",
   "metadata": {},
   "source": [
    "# question 2"
   ]
  },
  {
   "cell_type": "code",
   "execution_count": 21,
   "id": "5a4c59eb",
   "metadata": {},
   "outputs": [
    {
     "name": "stdout",
     "output_type": "stream",
     "text": [
      "cos(x) from 0 to pi = 0.0\n",
      "sin(x) from 0 to pi = 1.9236706937217898e-16\n",
      "sin(x) from 0 to pi = 0.7853981633974483\n"
     ]
    }
   ],
   "source": [
    "# from sympy import integrate, sin, oo, Symbol\n",
    "def integral(f, a, b):\n",
    "    return (b-a)/2*(f(a)+f(b))\n",
    "\n",
    "\n",
    "print(f'cos(x) from 0 to pi = {integral(np.cos,0,np.pi)}')\n",
    "print(f'sin(x) from 0 to pi = {integral(np.sin,0,np.pi)}')\n",
    "print(f'sin(x) from 0 to pi = {integral(np.sin,0,np.pi/2)}')\n"
   ]
  },
  {
   "cell_type": "markdown",
   "id": "5c95ee24",
   "metadata": {},
   "source": [
    "# Question 3"
   ]
  },
  {
   "cell_type": "code",
   "execution_count": 22,
   "id": "b4ebbb2d",
   "metadata": {},
   "outputs": [
    {
     "name": "stdout",
     "output_type": "stream",
     "text": [
      "total length is : 35.2845575287547\n"
     ]
    }
   ],
   "source": [
    "\n",
    "\n",
    "def pathlength(x,y):\n",
    "    length=0\n",
    "    for i in range(1,len(x)):\n",
    "       length+=(x[i]-x[i-1])**2+(y[i]-y[i-1])**2\n",
    "    return np.sqrt(length)   \n",
    "points=np.array([(4,1),(20,1),(1,23),(1,11)])\n",
    "x=points[:,0]\n",
    "y=points[:,1]\n",
    " \n",
    "ans=pathlength(x,y)\n",
    "print(\"total length is : {}\".format(ans))"
   ]
  },
  {
   "cell_type": "markdown",
   "id": "7c151d4b",
   "metadata": {},
   "source": [
    "# question 4 "
   ]
  },
  {
   "cell_type": "code",
   "execution_count": 23,
   "id": "d59ba46b",
   "metadata": {},
   "outputs": [
    {
     "name": "stdout",
     "output_type": "stream",
     "text": [
      "n\t\tT\t\talpha\t\tt\t\ts(t,n,T)\t\tf(t,T)\t\ts-f\n",
      "1.00\t\t6.28\t\t0.01\t\t0.06\t\t0.04\t\t1.00\t\t-0.96\n",
      "1.00\t\t6.28\t\t0.25\t\t1.57\t\t0.90\t\t1.00\t\t-0.10\n",
      "1.00\t\t6.28\t\t0.49\t\t3.08\t\t1.27\t\t1.00\t\t0.27\n",
      "3.00\t\t6.28\t\t0.01\t\t0.06\t\t0.12\t\t1.00\t\t-0.88\n",
      "3.00\t\t6.28\t\t0.25\t\t1.57\t\t1.02\t\t1.00\t\t0.02\n",
      "3.00\t\t6.28\t\t0.49\t\t3.08\t\t1.10\t\t1.00\t\t0.10\n",
      "5.00\t\t6.28\t\t0.01\t\t0.06\t\t0.20\t\t1.00\t\t-0.80\n",
      "5.00\t\t6.28\t\t0.25\t\t1.57\t\t0.99\t\t1.00\t\t-0.01\n",
      "5.00\t\t6.28\t\t0.49\t\t3.08\t\t1.06\t\t1.00\t\t0.06\n",
      "30.00\t\t6.28\t\t0.01\t\t0.06\t\t0.99\t\t1.00\t\t-0.01\n",
      "30.00\t\t6.28\t\t0.25\t\t1.57\t\t1.01\t\t1.00\t\t0.01\n",
      "30.00\t\t6.28\t\t0.49\t\t3.08\t\t1.00\t\t1.00\t\t0.00\n",
      "100.00\t\t6.28\t\t0.01\t\t0.06\t\t0.90\t\t1.00\t\t-0.10\n",
      "100.00\t\t6.28\t\t0.25\t\t1.57\t\t1.00\t\t1.00\t\t-0.00\n",
      "100.00\t\t6.28\t\t0.49\t\t3.08\t\t1.00\t\t1.00\t\t-0.00\n"
     ]
    }
   ],
   "source": [
    "def S(t, n, T):\n",
    "    s = 0\n",
    "    for i in range(1, n+1):\n",
    "        s += (1/(2*i-1))*np.sin((2*i-1) * np.pi*t/T)\n",
    "    s = s*4/np.pi\n",
    "    return s\n",
    "\n",
    "\n",
    "def F(t, T):\n",
    "    res = 0\n",
    "    if(0 < t and t < T/2):\n",
    "        res = 1\n",
    "    elif(t == T/2):\n",
    "        res = 0\n",
    "    elif(T/2 <t and t < T):\n",
    "        res = -1\n",
    "    return res\n",
    "\n",
    "\n",
    "n = [1, 3, 5, 30, 100]\n",
    "T = 2*np.pi\n",
    "alpha = [0.01, 0.25, 0.49]\n",
    "print(\"n\\t\\tT\\t\\talpha\\t\\tt\\t\\ts(t,n,T)\\t\\tf(t,T)\\t\\ts-f\")\n",
    "for i in n:\n",
    "    for j in alpha:\n",
    "        t = j*T#t=alpha *T\n",
    "        s = S(t, i, T)\n",
    "        f = F(t, T)\n",
    "        print(\"{:.2f}\\t\\t{:-.2f}\\t\\t{:.2f}\\t\\t{:.2f}\\t\\t{:.2f}\\t\\t{:.2f}\\t\\t{:.2f}\".format(\n",
    "            i, T, j, t, s, f, s-f))\n"
   ]
  },
  {
   "cell_type": "markdown",
   "id": "4819eed5",
   "metadata": {},
   "source": [
    "# fifth Question \n",
    "### gaussinan funtion ###"
   ]
  },
  {
   "cell_type": "code",
   "execution_count": 24,
   "id": "f6008bbd",
   "metadata": {},
   "outputs": [
    {
     "name": "stdout",
     "output_type": "stream",
     "text": [
      "\tX\t\tGauss_value\t\tmu\t\tsigma\n",
      "\t\n",
      "\t\n",
      "\t\n"
     ]
    },
    {
     "data": {
      "image/png": "[encoded data removed]",
      "text/plain": [
       "<Figure size 432x288 with 1 Axes>"
      ]
     },
     "metadata": {
      "needs_background": "light"
     },
     "output_type": "display_data"
    }
   ],
   "source": [
    "def gauss(x, mu=0, s=1):\n",
    "    return (1/(s*np.sqrt(2*np.pi)))*np.exp(-((x-mu)**2/(2*s**2)))\n",
    "\n",
    "# print(\"\\tX\\t\\tGauss_value\\t\\tmu\\t\\tsigma\")\n",
    "for mu ,sig in [(-1, 1), (0, 2), (2, 3)]:\n",
    "    x_values=np.linspace(mu-5*sig,mu+5*sig,120)\n",
    "    y= gauss(x_values, mu, sig)\n",
    "    plot(x_values,y)\n",
    "    print(f\"\\t\")\n",
    "show()"
   ]
  },
  {
   "cell_type": "code",
   "execution_count": null,
   "id": "5df65209",
   "metadata": {},
   "outputs": [],
   "source": []
  }
 ],
 "metadata": {
  "kernelspec": {
   "display_name": "Python 3 (ipykernel)",
   "language": "python",
   "name": "python3"
  },
  "language_info": {
   "codemirror_mode": {
    "name": "ipython",
    "version": 3
   },
   "file_extension": ".py",
   "mimetype": "text/x-python",
   "name": "python",
   "nbconvert_exporter": "python",
   "pygments_lexer": "ipython3",
   "version": "3.9.1"
  }
 },
 "nbformat": 4,
 "nbformat_minor": 5
}
