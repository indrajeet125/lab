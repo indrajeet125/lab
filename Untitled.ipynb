{
 "cells": [
  {
   "cell_type": "code",
   "execution_count": 1,
   "id": "def141db",
   "metadata": {},
   "outputs": [],
   "source": [
    "import numpy as np"
   ]
  },
  {
   "cell_type": "code",
   "execution_count": 20,
   "id": "b03ef46c",
   "metadata": {},
   "outputs": [
    {
     "name": "stdout",
     "output_type": "stream",
     "text": [
      "[[1 2 3]\n",
      " [4 5 6]\n",
      " [7 8 9]]\n",
      "\n",
      "\n",
      "\n",
      "\n",
      "\n",
      "[[1 3]\n",
      " [4 6]\n",
      " [7 9]]\n",
      "[4. 6.]\n"
     ]
    }
   ],
   "source": [
    "arr=np.array([ [ 1,2,3],[4,5,6],[7,8,9] ])\n",
    "print(arr)\n",
    "print(\"\\n\\n\\n\\n\")\n",
    "tarr=arr[:,0::2]\n",
    "print(tarr)\n",
    "print(np.mean(tarr,axis=0))"
   ]
  }
 ],
 "metadata": {
  "kernelspec": {
   "display_name": "Python 3 (ipykernel)",
   "language": "python",
   "name": "python3"
  },
  "language_info": {
   "codemirror_mode": {
    "name": "ipython",
    "version": 3
   },
   "file_extension": ".py",
   "mimetype": "text/x-python",
   "name": "python",
   "nbconvert_exporter": "python",
   "pygments_lexer": "ipython3",
   "version": "3.9.1"
  }
 },
 "nbformat": 4,
 "nbformat_minor": 5
}
